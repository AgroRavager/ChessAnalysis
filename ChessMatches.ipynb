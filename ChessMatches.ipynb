{
 "cells": [
  {
   "cell_type": "code",
   "execution_count": 32,
   "id": "blessed-suicide",
   "metadata": {},
   "outputs": [],
   "source": [
    "import pandas as pd\n",
    "\n",
    "import chess\n",
    "import chess.svg\n",
    "\n",
    "import IPython\n",
    "from IPython.display import display, SVG, clear_output, HTML\n",
    "\n",
    "from ipywidgets import widgets\n",
    "\n",
    "import time\n",
    "\n",
    "import matplotlib.pyplot as plt\n",
    "import matplotlib\n",
    "%matplotlib inline\n",
    "\n",
    "import numpy as np"
   ]
  },
  {
   "cell_type": "code",
   "execution_count": 33,
   "id": "bd1c0f0d",
   "metadata": {},
   "outputs": [],
   "source": [
    "games_df = pd.read_csv(\"games.csv\")"
   ]
  },
  {
   "cell_type": "code",
   "execution_count": 34,
   "id": "continued-lemon",
   "metadata": {},
   "outputs": [
    {
     "data": {
      "text/html": [
       "<div>\n",
       "<style scoped>\n",
       "    .dataframe tbody tr th:only-of-type {\n",
       "        vertical-align: middle;\n",
       "    }\n",
       "\n",
       "    .dataframe tbody tr th {\n",
       "        vertical-align: top;\n",
       "    }\n",
       "\n",
       "    .dataframe thead th {\n",
       "        text-align: right;\n",
       "    }\n",
       "</style>\n",
       "<table border=\"1\" class=\"dataframe\">\n",
       "  <thead>\n",
       "    <tr style=\"text-align: right;\">\n",
       "      <th></th>\n",
       "      <th>created_at</th>\n",
       "      <th>last_move_at</th>\n",
       "      <th>turns</th>\n",
       "      <th>white_rating</th>\n",
       "      <th>black_rating</th>\n",
       "      <th>opening_ply</th>\n",
       "    </tr>\n",
       "  </thead>\n",
       "  <tbody>\n",
       "    <tr>\n",
       "      <th>count</th>\n",
       "      <td>2.005800e+04</td>\n",
       "      <td>2.005800e+04</td>\n",
       "      <td>20058.000000</td>\n",
       "      <td>20058.000000</td>\n",
       "      <td>20058.000000</td>\n",
       "      <td>20058.000000</td>\n",
       "    </tr>\n",
       "    <tr>\n",
       "      <th>mean</th>\n",
       "      <td>1.483617e+12</td>\n",
       "      <td>1.483618e+12</td>\n",
       "      <td>60.465999</td>\n",
       "      <td>1596.631868</td>\n",
       "      <td>1588.831987</td>\n",
       "      <td>4.816981</td>\n",
       "    </tr>\n",
       "    <tr>\n",
       "      <th>std</th>\n",
       "      <td>2.850151e+10</td>\n",
       "      <td>2.850140e+10</td>\n",
       "      <td>33.570585</td>\n",
       "      <td>291.253376</td>\n",
       "      <td>291.036126</td>\n",
       "      <td>2.797152</td>\n",
       "    </tr>\n",
       "    <tr>\n",
       "      <th>min</th>\n",
       "      <td>1.376772e+12</td>\n",
       "      <td>1.376772e+12</td>\n",
       "      <td>1.000000</td>\n",
       "      <td>784.000000</td>\n",
       "      <td>789.000000</td>\n",
       "      <td>1.000000</td>\n",
       "    </tr>\n",
       "    <tr>\n",
       "      <th>25%</th>\n",
       "      <td>1.477548e+12</td>\n",
       "      <td>1.477548e+12</td>\n",
       "      <td>37.000000</td>\n",
       "      <td>1398.000000</td>\n",
       "      <td>1391.000000</td>\n",
       "      <td>3.000000</td>\n",
       "    </tr>\n",
       "    <tr>\n",
       "      <th>50%</th>\n",
       "      <td>1.496010e+12</td>\n",
       "      <td>1.496010e+12</td>\n",
       "      <td>55.000000</td>\n",
       "      <td>1567.000000</td>\n",
       "      <td>1562.000000</td>\n",
       "      <td>4.000000</td>\n",
       "    </tr>\n",
       "    <tr>\n",
       "      <th>75%</th>\n",
       "      <td>1.503170e+12</td>\n",
       "      <td>1.503170e+12</td>\n",
       "      <td>79.000000</td>\n",
       "      <td>1793.000000</td>\n",
       "      <td>1784.000000</td>\n",
       "      <td>6.000000</td>\n",
       "    </tr>\n",
       "    <tr>\n",
       "      <th>max</th>\n",
       "      <td>1.504493e+12</td>\n",
       "      <td>1.504494e+12</td>\n",
       "      <td>349.000000</td>\n",
       "      <td>2700.000000</td>\n",
       "      <td>2723.000000</td>\n",
       "      <td>28.000000</td>\n",
       "    </tr>\n",
       "  </tbody>\n",
       "</table>\n",
       "</div>"
      ],
      "text/plain": [
       "         created_at  last_move_at         turns  white_rating  black_rating  \\\n",
       "count  2.005800e+04  2.005800e+04  20058.000000  20058.000000  20058.000000   \n",
       "mean   1.483617e+12  1.483618e+12     60.465999   1596.631868   1588.831987   \n",
       "std    2.850151e+10  2.850140e+10     33.570585    291.253376    291.036126   \n",
       "min    1.376772e+12  1.376772e+12      1.000000    784.000000    789.000000   \n",
       "25%    1.477548e+12  1.477548e+12     37.000000   1398.000000   1391.000000   \n",
       "50%    1.496010e+12  1.496010e+12     55.000000   1567.000000   1562.000000   \n",
       "75%    1.503170e+12  1.503170e+12     79.000000   1793.000000   1784.000000   \n",
       "max    1.504493e+12  1.504494e+12    349.000000   2700.000000   2723.000000   \n",
       "\n",
       "        opening_ply  \n",
       "count  20058.000000  \n",
       "mean       4.816981  \n",
       "std        2.797152  \n",
       "min        1.000000  \n",
       "25%        3.000000  \n",
       "50%        4.000000  \n",
       "75%        6.000000  \n",
       "max       28.000000  "
      ]
     },
     "execution_count": 34,
     "metadata": {},
     "output_type": "execute_result"
    }
   ],
   "source": [
    "games_df.describe()"
   ]
  },
  {
   "cell_type": "code",
   "execution_count": 35,
   "id": "convertible-graphic",
   "metadata": {},
   "outputs": [],
   "source": [
    "def getwinners(r1, r2, winner):\n",
    "    return len(games_df[(games_df[r1]>games_df[r2])&(games_df['winner']==winner)])*100/len(games_df[games_df[r1]>games_df[r2]])"
   ]
  },
  {
   "cell_type": "code",
   "execution_count": 36,
   "id": "hollywood-understanding",
   "metadata": {},
   "outputs": [
    {
     "name": "stdout",
     "output_type": "stream",
     "text": [
      "Win percentage of white when white has a higher rating: 64\n",
      "Win percentage of black when white has a higher rating: 31\n",
      "Win percentage of black when black has a higher rating: 60\n",
      "Win percentage of white when black has a higher rating: 35\n"
     ]
    }
   ],
   "source": [
    "print('Win percentage of white when white has a higher rating:', round(getwinners('white_rating', 'black_rating', 'white')))\n",
    "print('Win percentage of black when white has a higher rating:', round(getwinners('white_rating', 'black_rating', 'black')))\n",
    "print('Win percentage of black when black has a higher rating:', round(getwinners('black_rating', 'white_rating', 'black')))\n",
    "print('Win percentage of white when black has a higher rating:', round(getwinners('black_rating', 'white_rating', 'white')))"
   ]
  },
  {
   "cell_type": "markdown",
   "id": "antique-launch",
   "metadata": {},
   "source": [
    "As expected, the player with the higher rating usually wins the game. However, there is a difference of 4 percent between the black and white win percentage in each scenario-Almost like white has an advantage..."
   ]
  },
  {
   "cell_type": "code",
   "execution_count": 37,
   "id": "loving-duplicate",
   "metadata": {},
   "outputs": [],
   "source": [
    "games_df['avrating'] = (games_df['white_rating']+games_df['black_rating'])/2"
   ]
  },
  {
   "cell_type": "code",
   "execution_count": 38,
   "id": "sophisticated-teacher",
   "metadata": {},
   "outputs": [
    {
     "data": {
      "text/html": [
       "<div>\n",
       "<style scoped>\n",
       "    .dataframe tbody tr th:only-of-type {\n",
       "        vertical-align: middle;\n",
       "    }\n",
       "\n",
       "    .dataframe tbody tr th {\n",
       "        vertical-align: top;\n",
       "    }\n",
       "\n",
       "    .dataframe thead th {\n",
       "        text-align: right;\n",
       "    }\n",
       "</style>\n",
       "<table border=\"1\" class=\"dataframe\">\n",
       "  <thead>\n",
       "    <tr style=\"text-align: right;\">\n",
       "      <th></th>\n",
       "      <th>avrating</th>\n",
       "    </tr>\n",
       "    <tr>\n",
       "      <th>rated</th>\n",
       "      <th></th>\n",
       "    </tr>\n",
       "  </thead>\n",
       "  <tbody>\n",
       "    <tr>\n",
       "      <th>False</th>\n",
       "      <td>1582.091596</td>\n",
       "    </tr>\n",
       "    <tr>\n",
       "      <th>True</th>\n",
       "      <td>1595.302600</td>\n",
       "    </tr>\n",
       "  </tbody>\n",
       "</table>\n",
       "</div>"
      ],
      "text/plain": [
       "          avrating\n",
       "rated             \n",
       "False  1582.091596\n",
       "True   1595.302600"
      ]
     },
     "execution_count": 38,
     "metadata": {},
     "output_type": "execute_result"
    }
   ],
   "source": [
    "games_df.groupby('rated').agg({'avrating': 'mean'})"
   ]
  },
  {
   "cell_type": "markdown",
   "id": "competitive-attachment",
   "metadata": {},
   "source": [
    "There isn't much of a difference between player ratings in rated and unrated matches - about 13.2/1595 (less than one percent)."
   ]
  },
  {
   "cell_type": "code",
   "execution_count": 39,
   "id": "fourth-directive",
   "metadata": {},
   "outputs": [],
   "source": [
    "gamesrated = games_df[games_df['rated']]\n",
    "gamesnotrated = games_df[~games_df['rated']]"
   ]
  },
  {
   "cell_type": "code",
   "execution_count": 40,
   "id": "furnished-daisy",
   "metadata": {},
   "outputs": [
    {
     "name": "stdout",
     "output_type": "stream",
     "text": [
      "Number of unrated games that white won: 1949\n",
      "Number of unrated games that black won: 1723\n",
      "Number of unrated games that ended in a draw: 231\n"
     ]
    }
   ],
   "source": [
    "print('Number of unrated games that white won:', len(gamesnotrated.query(\"winner == 'white'\")))\n",
    "print('Number of unrated games that black won:', len(gamesnotrated.query(\"winner == 'black'\")))\n",
    "print('Number of unrated games that ended in a draw:', len(gamesnotrated.query(\"winner == 'draw'\")))"
   ]
  },
  {
   "cell_type": "code",
   "execution_count": 41,
   "id": "periodic-fortune",
   "metadata": {},
   "outputs": [
    {
     "data": {
      "image/png": "[encoded data removed]",
      "text/plain": [
       "<Figure size 640x480 with 1 Axes>"
      ]
     },
     "metadata": {},
     "output_type": "display_data"
    }
   ],
   "source": [
    "labels = 'White', 'Black', 'Tie'\n",
    "sizes = [len(gamesnotrated.query(\"winner == 'white'\"))*100/len(gamesnotrated), \n",
    "        len(gamesnotrated.query(\"winner == 'black'\"))*100/len(gamesnotrated), \n",
    "        len(gamesnotrated.query(\"winner == 'draw'\"))*100/len(gamesnotrated)]\n",
    "fig1, ax1 = plt.subplots()\n",
    "ax1.pie(sizes, labels=labels, autopct='%1.1f%%',\n",
    "        shadow=True, startangle=90)\n",
    "ax1.axis('equal') \n",
    "plt.show()"
   ]
  },
  {
   "cell_type": "code",
   "execution_count": 42,
   "id": "noble-development",
   "metadata": {},
   "outputs": [
    {
     "name": "stdout",
     "output_type": "stream",
     "text": [
      "Number of rated games that white won: 8052\n",
      "Number of rated games that black won: 7384\n",
      "Number of rated games that ended in a draw: 719\n"
     ]
    },
    {
     "data": {
      "text/plain": [
       "16155"
      ]
     },
     "execution_count": 42,
     "metadata": {},
     "output_type": "execute_result"
    }
   ],
   "source": [
    "print('Number of rated games that white won:', len(gamesrated.query(\"winner == 'white'\")))\n",
    "print('Number of rated games that black won:', len(gamesrated.query(\"winner == 'black'\")))\n",
    "print('Number of rated games that ended in a draw:', len(gamesrated.query(\"winner == 'draw'\")))\n",
    "len(gamesrated)"
   ]
  },
  {
   "cell_type": "code",
   "execution_count": 43,
   "id": "humanitarian-ecology",
   "metadata": {},
   "outputs": [
    {
     "data": {
      "image/png": "[encoded data removed]",
      "text/plain": [
       "<Figure size 640x480 with 1 Axes>"
      ]
     },
     "metadata": {},
     "output_type": "display_data"
    }
   ],
   "source": [
    "labels = 'White', 'Black', 'Tie'\n",
    "sizes = [len(gamesrated.query(\"winner == 'white'\"))*100/len(gamesrated), \n",
    "        len(gamesrated.query(\"winner == 'black'\"))*100/len(gamesrated), \n",
    "        len(gamesrated.query(\"winner == 'draw'\"))*100/len(gamesrated)]\n",
    "fig1, ax1 = plt.subplots()\n",
    "ax1.pie(sizes, labels=labels, autopct='%1.1f%%',\n",
    "        shadow=True, startangle=90)\n",
    "ax1.axis('equal') \n",
    "\n",
    "plt.show()"
   ]
  },
  {
   "cell_type": "markdown",
   "id": "applicable-inventory",
   "metadata": {},
   "source": [
    "The player playing white seems to have an obvious advantage over the player playing black, regardless of the ratings"
   ]
  },
  {
   "cell_type": "code",
   "execution_count": 44,
   "id": "fantastic-fancy",
   "metadata": {},
   "outputs": [
    {
     "data": {
      "text/html": [
       "<div>\n",
       "<style scoped>\n",
       "    .dataframe tbody tr th:only-of-type {\n",
       "        vertical-align: middle;\n",
       "    }\n",
       "\n",
       "    .dataframe tbody tr th {\n",
       "        vertical-align: top;\n",
       "    }\n",
       "\n",
       "    .dataframe thead th {\n",
       "        text-align: right;\n",
       "    }\n",
       "</style>\n",
       "<table border=\"1\" class=\"dataframe\">\n",
       "  <thead>\n",
       "    <tr style=\"text-align: right;\">\n",
       "      <th></th>\n",
       "      <th>turns</th>\n",
       "    </tr>\n",
       "    <tr>\n",
       "      <th>winner</th>\n",
       "      <th></th>\n",
       "    </tr>\n",
       "  </thead>\n",
       "  <tbody>\n",
       "    <tr>\n",
       "      <th>black</th>\n",
       "      <td>60.724388</td>\n",
       "    </tr>\n",
       "    <tr>\n",
       "      <th>draw</th>\n",
       "      <td>86.157895</td>\n",
       "    </tr>\n",
       "    <tr>\n",
       "      <th>white</th>\n",
       "      <td>57.790221</td>\n",
       "    </tr>\n",
       "  </tbody>\n",
       "</table>\n",
       "</div>"
      ],
      "text/plain": [
       "            turns\n",
       "winner           \n",
       "black   60.724388\n",
       "draw    86.157895\n",
       "white   57.790221"
      ]
     },
     "execution_count": 44,
     "metadata": {},
     "output_type": "execute_result"
    }
   ],
   "source": [
    "games_df.groupby('winner').agg({'turns': 'mean'})"
   ]
  },
  {
   "cell_type": "markdown",
   "id": "interim-looking",
   "metadata": {},
   "source": [
    "That's interesting. The matches that ended in a draw usually had more turns played than matches won by either side, as expected. However, the matches won by the player playing black seem to last more than 5 percent longer than those won by the player playing white."
   ]
  },
  {
   "cell_type": "code",
   "execution_count": 45,
   "id": "meaning-hearing",
   "metadata": {},
   "outputs": [
    {
     "data": {
      "text/html": [
       "<div>\n",
       "<style scoped>\n",
       "    .dataframe tbody tr th:only-of-type {\n",
       "        vertical-align: middle;\n",
       "    }\n",
       "\n",
       "    .dataframe tbody tr th {\n",
       "        vertical-align: top;\n",
       "    }\n",
       "\n",
       "    .dataframe thead th {\n",
       "        text-align: right;\n",
       "    }\n",
       "</style>\n",
       "<table border=\"1\" class=\"dataframe\">\n",
       "  <thead>\n",
       "    <tr style=\"text-align: right;\">\n",
       "      <th></th>\n",
       "      <th>turns</th>\n",
       "    </tr>\n",
       "    <tr>\n",
       "      <th>rated</th>\n",
       "      <th></th>\n",
       "    </tr>\n",
       "  </thead>\n",
       "  <tbody>\n",
       "    <tr>\n",
       "      <th>False</th>\n",
       "      <td>54.271586</td>\n",
       "    </tr>\n",
       "    <tr>\n",
       "      <th>True</th>\n",
       "      <td>61.962550</td>\n",
       "    </tr>\n",
       "  </tbody>\n",
       "</table>\n",
       "</div>"
      ],
      "text/plain": [
       "           turns\n",
       "rated           \n",
       "False  54.271586\n",
       "True   61.962550"
      ]
     },
     "execution_count": 45,
     "metadata": {},
     "output_type": "execute_result"
    }
   ],
   "source": [
    "games_df.groupby('rated').agg({'turns':'mean'})"
   ]
  },
  {
   "cell_type": "markdown",
   "id": "bibliographic-rings",
   "metadata": {},
   "source": [
    "The games that were rated generally had 7.7 more turns played per match than the unrated games"
   ]
  },
  {
   "cell_type": "code",
   "execution_count": 46,
   "id": "pediatric-ethernet",
   "metadata": {},
   "outputs": [],
   "source": [
    "games150 = games_df.sample(300)"
   ]
  },
  {
   "cell_type": "code",
   "execution_count": 47,
   "id": "devoted-looking",
   "metadata": {},
   "outputs": [],
   "source": [
    "intercept, slope = np.polynomial.polynomial.polyfit(\n",
    "    games150.avrating,\n",
    "    games150.turns,\n",
    "    1)\n",
    "ratings = np.array([min(games150.avrating), max(games150.avrating)])\n",
    "turns = intercept + slope * ratings"
   ]
  },
  {
   "cell_type": "code",
   "execution_count": 48,
   "id": "twenty-plate",
   "metadata": {},
   "outputs": [
    {
     "data": {
      "image/png": "[encoded data removed]",
      "text/plain": [
       "<Figure size 640x480 with 1 Axes>"
      ]
     },
     "metadata": {},
     "output_type": "display_data"
    }
   ],
   "source": [
    "plt.scatter(\"avrating\", \"turns\", data=games150)\n",
    "plt.plot(ratings, turns, color=\"magenta\")\n",
    "plt.title(\"Rating vs Number of Turns\")\n",
    "plt.xlabel(\"Average rating of the players\")\n",
    "plt.ylabel(\"Number of turns played in the match\")\n",
    "plt.show()"
   ]
  },
  {
   "cell_type": "markdown",
   "id": "valid-acoustic",
   "metadata": {},
   "source": [
    "Even though the turns per game were higher in rated games, the average rating of the players seemed to have no correlation with the turns played. The slight slope that can be seen seems to be\n",
    "a result of the lack of data at the extreme ends"
   ]
  },
  {
   "cell_type": "code",
   "execution_count": 49,
   "id": "great-advertiser",
   "metadata": {},
   "outputs": [
    {
     "name": "stdout",
     "output_type": "stream",
     "text": [
      "Printing the frequency\n",
      "Van't Kruijs Opening                                               226\n",
      "Sicilian Defense                                                   194\n",
      "Sicilian Defense: Bowdler Attack                                   164\n",
      "Scandinavian Defense                                               123\n",
      "French Defense: Knight Variation                                   121\n",
      "                                                                  ... \n",
      "Ruy Lopez: Closed Variations |  Yates Variation |  Short Attack      1\n",
      "Queen's Gambit Accepted: Showalter Variation                         1\n",
      "King's Gambit Accepted |  Greco Gambit                               1\n",
      "Van Geet Opening: Dunst-Perrenet Gambit                              1\n",
      "Pirc Defense: Austrian Attack |  Dragon Formation                    1\n",
      "Name: opening_name, Length: 1145, dtype: int64\n"
     ]
    }
   ],
   "source": [
    "freq = games_df[games_df['winner']=='black']['opening_name'].value_counts()\n",
    "print(\"Printing the frequency\")\n",
    "print(freq)"
   ]
  },
  {
   "cell_type": "markdown",
   "id": "physical-living",
   "metadata": {},
   "source": [
    "This series shows the openings with which the player playing black got the most wins."
   ]
  },
  {
   "cell_type": "code",
   "execution_count": 50,
   "id": "manufactured-advocacy",
   "metadata": {},
   "outputs": [
    {
     "name": "stdout",
     "output_type": "stream",
     "text": [
      "Black win percentage when using the Van't Kruijs Opening: 61.41\n",
      "Black win percentage when using the Sicilian Defense: 54.19\n",
      "Black win percentage when using other openings:  44.94\n"
     ]
    }
   ],
   "source": [
    "print(\"Black win percentage when using the Van't Kruijs Opening:\",\n",
    "round(len(games_df[(games_df['opening_name']==\"Van't Kruijs Opening\")&(games_df['winner']=='black')])*100\n",
    "/len(games_df[games_df['opening_name']==\"Van't Kruijs Opening\"]),2))\n",
    "print('Black win percentage when using the Sicilian Defense:',\n",
    "round(len(games_df[(games_df['opening_name']==\"Sicilian Defense\")&(games_df['winner']=='black')])*100\n",
    "/len(games_df[games_df['opening_name']==\"Sicilian Defense\"]),2))\n",
    "print('Black win percentage when using other openings: ', \n",
    "round(len(games_df[(games_df['winner']=='black')&(~games_df['opening_name'].isin(['Sicilian Defense', \"Van't Kruijs Opening\"]))])*100/len(games_df[~games_df['opening_name'].isin(['Sicilian Defense', \"Van't Kruijs Opening\"])]),2))"
   ]
  },
  {
   "cell_type": "code",
   "execution_count": 51,
   "id": "opposed-delivery",
   "metadata": {},
   "outputs": [
    {
     "data": {
      "image/png": "[encoded data removed]",
      "text/plain": [
       "<Figure size 640x480 with 1 Axes>"
      ]
     },
     "metadata": {},
     "output_type": "display_data"
    }
   ],
   "source": [
    "fig = plt.figure()\n",
    "ax = fig.add_axes([0,0,1,1])\n",
    "openings = [\"Van't Kruijs\", 'Sicilian', 'Other Openings']\n",
    "percentages = [61.413, 54.19, 44.94]\n",
    "ax.bar(openings, percentages)\n",
    "plt.show()"
   ]
  },
  {
   "cell_type": "markdown",
   "id": "fifteen-speed",
   "metadata": {},
   "source": [
    "We can see that the Van't Kruijs and Sicilain Defense openings provide black with a statistical advantage over the other openings"
   ]
  },
  {
   "cell_type": "code",
   "execution_count": 52,
   "id": "intellectual-jonathan",
   "metadata": {},
   "outputs": [
    {
     "name": "stdout",
     "output_type": "stream",
     "text": [
      "Printing the frequency of the top 15 openings\n",
      "Scandinavian Defense: Mieses-Kotroc Variation    164\n",
      "Sicilian Defense                                 149\n",
      "Scotch Game                                      145\n",
      "French Defense: Knight Variation                 135\n",
      "Philidor Defense #3                              127\n",
      "Van't Kruijs Opening                             126\n",
      "Sicilian Defense: Bowdler Attack                 119\n",
      "Queen's Pawn Game: Mason Attack                  116\n",
      "Queen's Pawn Game: Chigorin Variation            112\n",
      "Horwitz Defense                                  110\n",
      "Caro-Kann Defense                                109\n",
      "Italian Game: Anti-Fried Liver Defense            97\n",
      "Four Knights Game: Italian Variation              95\n",
      "Scandinavian Defense                              90\n",
      "Philidor Defense #2                               89\n",
      "Name: opening_name, dtype: int64\n"
     ]
    }
   ],
   "source": [
    "freq = games_df[games_df['winner']=='white']['opening_name'].value_counts()\n",
    "print(\"Printing the frequency of the top 15 openings\")\n",
    "print(freq.head(15))"
   ]
  },
  {
   "cell_type": "code",
   "execution_count": 53,
   "id": "appointed-chrome",
   "metadata": {},
   "outputs": [
    {
     "name": "stdout",
     "output_type": "stream",
     "text": [
      "White win percentage when using the Scandinavian Defense: Mieses-Kotroc Variation: 63.32\n",
      "White win percentage when using the Scotch Game: 53.51\n",
      "White win percentage when using the Sicilian Defense: 41.62\n",
      "White win percentage when using other openings: 49.63\n"
     ]
    }
   ],
   "source": [
    "print('White win percentage when using the Scandinavian Defense: Mieses-Kotroc Variation:',\n",
    "round(len(games_df[(games_df['opening_name']==\"Scandinavian Defense: Mieses-Kotroc Variation\")&(games_df['winner']=='white')])*100\n",
    "/len(games_df[games_df['opening_name']==\"Scandinavian Defense: Mieses-Kotroc Variation\"]), 2))\n",
    "\n",
    "print('White win percentage when using the Scotch Game:',\n",
    "round(len(games_df[(games_df['opening_name']==\"Scotch Game\")&(games_df['winner']=='white')])*100\n",
    "/len(games_df[games_df['opening_name']==\"Scotch Game\"]), 2))\n",
    "\n",
    "print('White win percentage when using the Sicilian Defense:',\n",
    "round(len(games_df[(games_df['opening_name']==\"Sicilian Defense\")&(games_df['winner']=='white')])*100\n",
    "/len(games_df[games_df['opening_name']==\"Sicilian Defense\"]), 2))\n",
    "\n",
    "print('White win percentage when using other openings:',\n",
    "round(len(games_df[(games_df['winner']=='white')&(~games_df['opening_name'].isin(['Scandinavian Defense: Mieses-Kotroc Variation', \"Scotch Game\"]))])*100/len(games_df[~games_df['opening_name'].isin(['Scandinavian Defense: Mieses-Kotroc Variation', \"Scotch Game\"])]), 2))"
   ]
  },
  {
   "cell_type": "code",
   "execution_count": 54,
   "id": "specialized-armstrong",
   "metadata": {},
   "outputs": [
    {
     "data": {
      "image/png": "[encoded data removed]",
      "text/plain": [
       "<Figure size 640x480 with 1 Axes>"
      ]
     },
     "metadata": {},
     "output_type": "display_data"
    }
   ],
   "source": [
    "fig = plt.figure()\n",
    "ax = fig.add_axes([0,0,1,1])\n",
    "openings = [\"Scandinavian Defense\", 'Scotch Game', 'Other Openings']\n",
    "percentages = [63.32, 53.506, len(games_df[(games_df['winner']=='white')&(~games_df['opening_name'].isin(['Scandinavian Defense: Mieses-Kotroc Variation', \"Scotch Game\"]))])*100/len(games_df[~games_df['opening_name'].isin(['Scandinavian Defense: Mieses-Kotroc Variation', \"Scotch Game\"])])]\n",
    "ax.bar(openings, percentages)\n",
    "plt.show()"
   ]
  },
  {
   "cell_type": "markdown",
   "id": "integral-following",
   "metadata": {},
   "source": [
    "The Scandinavian Defense: Mieses-Kotroc Variation and Scotch Game openings appear to provide white with a statistical advantage over the other openings"
   ]
  },
  {
   "cell_type": "code",
   "execution_count": 55,
   "id": "0f6660f5-ba98-447f-ba9d-61f01d27afe6",
   "metadata": {},
   "outputs": [],
   "source": [
    "# # Function to draw the chess board\n",
    "# def draw_board(board):\n",
    "#     board_svg = chess.svg.board(board=board)\n",
    "#     display(SVG(board_svg))\n",
    "\n",
    "# # Function to convert moves from a descriptive format to UCI format\n",
    "# def convert_moves(descriptive_moves):\n",
    "#     uci_moves = []\n",
    "#     board = chess.Board()\n",
    "    \n",
    "#     for move_str in descriptive_moves.split():\n",
    "#         move = board.parse_san(move_str)\n",
    "#         uci_moves.append(move.uci())\n",
    "#         board.push(move)\n",
    "\n",
    "#     return uci_moves\n",
    "\n",
    "# # Function to animate the moves\n",
    "# def animate_moves(moves):\n",
    "#     board = chess.Board()\n",
    "\n",
    "#     for move in moves:\n",
    "#         board.push_uci(move)\n",
    "#         clear_output(wait=True)\n",
    "#         draw_board(board)\n",
    "#         time.sleep(.1)  # adjust the speed of the animation\n",
    "\n",
    "# # Replace this with your actual chess moves\n",
    "# descriptive_moves = 'd4 d5 Nf3 Bf5 Nc3 Nf6 Bf4 Ng4 e3 Nc6 Be2 Qd7 O-O O-O-O Nb5 Nb4 Rc1 Nxa2 Ra1 Nb4 Nxa7+ Kb8 Nb5 Bxc2 Bxc7+ Kc8 Qd2 Qc6 Na7+ Kd7 Nxc6 bxc6 Bxd8 Kxd8 Qxb4 e5 Qb8+ Ke7 dxe5 Be4 Ra7+ Ke6 Qe8+ Kf5 Qxf7+ Nf6 Nh4+ Kg5 g3 Ng4 Qf4+ Kh5 Qxg4+ Kh6 Qf4+ g5 Qf6+ Bg6 Nxg6 Bg7 Qxg7#'\n",
    "\n",
    "# # Convert descriptive moves to UCI format\n",
    "# uci_moves_sequence = convert_moves(descriptive_moves)\n",
    "\n",
    "# animate_moves(uci_moves_sequence)\n"
   ]
  },
  {
   "cell_type": "code",
   "execution_count": 56,
   "id": "89440404",
   "metadata": {},
   "outputs": [],
   "source": [
    "def opening_move_plot(games):\n",
    "    # Split moves into individual moves\n",
    "    all_moves = ' '.join(games['moves']).split()\n",
    "\n",
    "    # Count the occurrences of each move\n",
    "    move_counts = pd.Series(all_moves).value_counts()\n",
    "\n",
    "    # Plot the top N opening moves\n",
    "    top_n = 10  # You can adjust this value\n",
    "    move_counts.head(top_n).plot(kind='bar', color='skyblue')\n",
    "    plt.title('Top Opening Moves')\n",
    "    plt.xlabel('Move')\n",
    "    plt.ylabel('Frequency')\n",
    "    plt.show()\n",
    "    \n",
    "def win_percentage_plot(games):\n",
    "    labels = 'White', 'Black', 'Stalemate'\n",
    "    sizes = [len(games.query(\"winner == 'white'\"))*100/len(games), \n",
    "        len(games.query(\"winner == 'black'\"))*100/len(games), \n",
    "        len(games.query(\"winner == 'draw'\"))*100/len(games)]\n",
    "    fig1, ax1 = plt.subplots()\n",
    "    ax1.pie(sizes, labels=labels, autopct='%1.1f%%',\n",
    "        shadow=True, startangle=90)\n",
    "    ax1.axis('equal') \n",
    "    plt.title(f'Win percentages')\n",
    "    plt.show()\n",
    "    \n",
    "def rating_difference_impact(games):\n",
    "    # Calculate the rating difference for each game\n",
    "    games['rating_difference'] = games['white_rating'] - games['black_rating']\n",
    "\n",
    "    # Create bins for rating differences\n",
    "    bins = [-400, -200, -100, 0, 100, 200, 400]\n",
    "    labels = ['<-200', '-200 to -100', '-100 to 0', '0 to 100', '100 to 200', '200+']\n",
    "    games['rating_difference_group'] = pd.cut(games['rating_difference'], bins=bins, labels=labels, right=False)\n",
    "\n",
    "    # Calculate win percentages for each rating difference group\n",
    "    win_percentages = games.groupby('rating_difference_group')['winner'].value_counts(normalize=True).unstack().fillna(0)\n",
    "    \n",
    "    # Plot the win percentages\n",
    "    win_percentages.plot(kind='bar', stacked=True, colormap='coolwarm_r')\n",
    "    plt.title('Win Percentage Based on Rating Difference')\n",
    "    plt.xlabel('Rating Difference')\n",
    "    plt.ylabel('Win Percentage')\n",
    "    plt.legend(title='Winner', loc='upper right')\n",
    "    plt.show()"
   ]
  },
  {
   "cell_type": "code",
   "execution_count": 57,
   "id": "ab9bebba",
   "metadata": {
    "scrolled": false
   },
   "outputs": [
    {
     "data": {
      "application/vnd.jupyter.widget-view+json": {
       "model_id": "3b08881ff69f4057a02c2e0d81df107d",
       "version_major": 2,
       "version_minor": 0
      },
      "text/plain": [
       "HBox(children=(Dropdown(description='Select an opening:', options=('Alekhine Defense', 'Alekhine Defense: Scan…"
      ]
     },
     "metadata": {},
     "output_type": "display_data"
    },
    {
     "data": {
      "application/vnd.jupyter.widget-view+json": {
       "model_id": "6250aee4865b4646ba9afbb2663fea23",
       "version_major": 2,
       "version_minor": 0
      },
      "text/plain": [
       "HBox(children=(Output(layout=Layout(border='1px solid black')), Output(layout=Layout(border='1px solid black',…"
      ]
     },
     "metadata": {},
     "output_type": "display_data"
    },
    {
     "data": {
      "application/vnd.jupyter.widget-view+json": {
       "model_id": "dff3480ae0fe462e8d4e47fc0c88e0ff",
       "version_major": 2,
       "version_minor": 0
      },
      "text/plain": [
       "HBox(children=(Textarea(value='', description='Enter the game id to simulate:', layout=Layout(height='25px', w…"
      ]
     },
     "metadata": {},
     "output_type": "display_data"
    },
    {
     "data": {
      "application/vnd.jupyter.widget-view+json": {
       "model_id": "543ddf07e21c449f88e7f13e2f0ad294",
       "version_major": 2,
       "version_minor": 0
      },
      "text/plain": [
       "Output(layout=Layout(border='1px solid black'))"
      ]
     },
     "metadata": {},
     "output_type": "display_data"
    }
   ],
   "source": [
    "pd.set_option('display.max_rows', 999)\n",
    "pd.set_option('display.max_colwidth', None)\n",
    "def show_data(opening_name):\n",
    "    #filter dataframe to matches with user chosen opening name\n",
    "    games = games_df[games_df['opening_name'] == opening_name]\n",
    "    \n",
    "    #get dataframe with calculated mean values for each column\n",
    "    games_describe = games.describe().loc['mean']\n",
    "    \n",
    "    #display statistics and plots about chosen opening in first output window\n",
    "    with out:\n",
    "        print(f\"Games in dataset with this opening: {len(games)}\")\n",
    "        print(f\"Mean turns per game: {round(games_describe['turns'])}\")\n",
    "        print(f\"Mean overall rating: {round(games_describe['avrating'])}\")\n",
    "        print(f\"Mean white rating: {round(games_describe['white_rating'])}\")\n",
    "        print(f\"Mean black rating: {round(games_describe['black_rating'])}\")\n",
    "        win_percentage_plot(games)\n",
    "        opening_move_plot(games)\n",
    "        rating_difference_impact(games.copy())\n",
    "    \n",
    "    #display dataframe of matches with chosen opening\n",
    "    with out2:\n",
    "        #convert avrating column to integer type so the dataframe can be sorted by it\n",
    "        display(games.assign(avrating = lambda x: x['avrating'].astype(int))\n",
    "                     .sort_values(by = 'avrating', ascending = False)\n",
    "                     #copy victory_status column's data into new victory column to shorten dataframe width\n",
    "                     .assign(victory = lambda df: df['victory_status'])\n",
    "                     #display relevant columns to user\n",
    "                     [['avrating', 'white_rating', 'black_rating', 'winner', 'victory', 'turns', 'id']]\n",
    "                     #hide index\n",
    "                     .style.hide())\n",
    "    \n",
    "#create output windows\n",
    "out = widgets.Output(layout={'border': '1px solid black'})\n",
    "out2 = widgets.Output(layout={'border': '1px solid black', 'width': '65%'})\n",
    "out3 = widgets.Output(layout={'border': '1px solid black'})\n",
    "\n",
    "#create button to clear output windows\n",
    "clear_button = widgets.Button(description = 'clear output')\n",
    "#define method that runs when button is clicked\n",
    "def clear_print(button=None):\n",
    "    out.clear_output()\n",
    "    out2.clear_output()\n",
    "    out3.clear_output()\n",
    "#link clear_button to clear_print function\n",
    "clear_button.on_click(clear_print)\n",
    "\n",
    "\n",
    "#get all opening names used over 25 times in dataset\n",
    "options = games_df.opening_name.value_counts().loc[lambda x: x > 25].index.sort_values()\n",
    "# Create a Dropdown widget with list of selected opening names\n",
    "dropdown = widgets.Dropdown(options = options,\n",
    "    value=None,  # Default selected option\n",
    "    description='Select an opening:',\n",
    "    style={'description_width': 'initial'})\n",
    "# Function to handle the dropdown value change event\n",
    "def on_dropdown_change(change):\n",
    "    selected_option = change['new']\n",
    "    show_data(selected_option)   \n",
    "# Attach the event handler to the dropdown widget\n",
    "dropdown.observe(on_dropdown_change, names='value')\n",
    "\n",
    "\n",
    "#create text box to take in game id input\n",
    "text_box_id = widgets.Textarea(\n",
    "    value='',\n",
    "    description='Enter the game id to simulate:',\n",
    "    layout={'width': '350px', 'height': '25px'},\n",
    "    style={'description_width': 'initial'})\n",
    "\n",
    "#create text box to take in number of seconds input\n",
    "text_box_seconds = widgets.Textarea(\n",
    "    value='1',\n",
    "    description='Enter seconds between each turn:',\n",
    "    layout={'width': '350px', 'height': '25px'},\n",
    "    style={'description_width': 'initial'})\n",
    "\n",
    "simulate_button = widgets.Button(description = 'simulate')\n",
    "def simulate(button = None):\n",
    "    with out3:\n",
    "        # Function to draw the chess board\n",
    "        board_svg = chess.svg.board(board=chess.Board())\n",
    "        display(SVG(board_svg))\n",
    "\n",
    "        # Replace this with your actual chess moves\n",
    "        descriptive_moves = games_df.loc[games_df['id'] == text_box_id.value, 'moves'].values[0]\n",
    "\n",
    "        # Convert descriptive moves to UCI format\n",
    "        uci_moves = []\n",
    "        board = chess.Board()\n",
    "\n",
    "        for move_str in descriptive_moves.split():\n",
    "            move = board.parse_san(move_str)\n",
    "            uci_moves.append(move.uci())\n",
    "            board.push(move)\n",
    "\n",
    "        # Function to animate the moves\n",
    "        board = chess.Board()\n",
    "        for move in uci_moves:\n",
    "            board.push_uci(move)\n",
    "            clear_output(wait=True)\n",
    "            board_svg = chess.svg.board(board=board)\n",
    "            display(SVG(board_svg))\n",
    "            time.sleep(float(text_box_seconds.value))  # Adjust the speed of the animation\n",
    "simulate_button.on_click(simulate)    \n",
    "    \n",
    "    \n",
    "#format and display widgets and outputs\n",
    "display(widgets.HBox([dropdown, clear_button]))\n",
    "display(widgets.HBox([out, out2])) \n",
    "display(widgets.HBox([text_box_id, text_box_seconds, simulate_button]))\n",
    "display(out3)"
   ]
  }
 ],
 "metadata": {
  "kernelspec": {
   "display_name": "Python 3 (ipykernel)",
   "language": "python",
   "name": "python3"
  },
  "language_info": {
   "codemirror_mode": {
    "name": "ipython",
    "version": 3
   },
   "file_extension": ".py",
   "mimetype": "text/x-python",
   "name": "python",
   "nbconvert_exporter": "python",
   "pygments_lexer": "ipython3",
   "version": "3.10.6"
  }
 },
 "nbformat": 4,
 "nbformat_minor": 5
}
