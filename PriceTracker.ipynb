{
 "cells": [
  {
   "cell_type": "code",
   "execution_count": 1,
   "id": "f8114f36-c7fa-4c57-9ac4-98de24ff34ab",
   "metadata": {},
   "outputs": [],
   "source": [
    "import requests\n",
    "from bs4 import BeautifulSoup\n",
    "from lxml import etree as et\n",
    "import datetime\n",
    "import csv\n",
    "\n",
    "from selenium import webdriver\n",
    "from selenium.webdriver.chrome.options import Options\n",
    "from webdriver_manager.chrome import ChromeDriverManager\n",
    "\n",
    "import yfinance as yf\n",
    "from pycoingecko import CoinGeckoAPI\n",
    "\n",
    "import db\n",
    "import sqlite3"
   ]
  },
  {
   "cell_type": "code",
   "execution_count": 2,
   "id": "4a57584f-90a2-49b3-9d16-8fe2d4c3b1f3",
   "metadata": {},
   "outputs": [],
   "source": [
    "#first method tried, essentially detected and blocked by Amazon\n",
    "# def get_amazon_price(url):\n",
    "#     response = requests.get(url, headers=headers)\n",
    "#     soup = BeautifulSoup(response.content, 'html.parser')\n",
    "\n",
    "#     # Try to find the price element by class\n",
    "#     price_element = soup.find('span', class_=\"a-price-whole\")\n",
    "#     return price_element\n",
    "#     if price_element:\n",
    "#         try:\n",
    "#             # Retrieve the price text and clean it up\n",
    "#             price_text = price_element.text.strip().replace(',', '').replace('.', '')\n",
    "#             return float(price_text)\n",
    "#         except ValueError:\n",
    "#             return \"Error converting price to number\"\n",
    "\n",
    "#     return \"Price unavailable\""
   ]
  },
  {
   "cell_type": "code",
   "execution_count": 3,
   "id": "193ac1d5-a806-4892-8ce6-55ce4a5a842d",
   "metadata": {},
   "outputs": [],
   "source": [
    "#I looked at the output in this and realized that Amazon was redirecting me to a captcha instead of \n",
    "#the item page because it suspected a bot, so I switched to using selenium instead\n",
    "# response = requests.get(link, headers=headers)\n",
    "# soup = BeautifulSoup(response.content, 'html.parser')\n",
    "# print(soup)"
   ]
  },
  {
   "cell_type": "code",
   "execution_count": 8,
   "id": "b037a11b-ca47-408f-907f-cbb0ed2cc412",
   "metadata": {},
   "outputs": [],
   "source": [
    "# Set Chrome optionsm to run headless\n",
    "chrome_options = Options()\n",
    "chrome_options.add_argument(\"--headless\") \n",
    "\n",
    "def return_price(url_list):\n",
    "    # Initialize WebDriver using ChromeDriver Manager\n",
    "    driver = webdriver.Chrome(ChromeDriverManager().install(), options=chrome_options)  \n",
    "    return_list = []\n",
    "    \n",
    "    for url in url_list:\n",
    "        driver.get(url)\n",
    "        \n",
    "        # Extract the HTML page source\n",
    "        page_content = driver.page_source\n",
    "        \n",
    "        # use BeautifulSoup for parsing\n",
    "        soup = BeautifulSoup(page_content, 'html.parser')\n",
    "        \n",
    "        # Print parsed content for debugging purposes\n",
    "        # print(soup.prettify())\n",
    "    \n",
    "        #find the name and price of the item by the class/id elements\n",
    "        price_int = soup.find('span', class_=\"a-price-whole\")\n",
    "        price_decimal = soup.find('span', class_='a-price-fraction')\n",
    "        price_total = price_int.get_text() + price_decimal.get_text()\n",
    "        product_name = soup.find(id = 'productTitle').get_text().strip()\n",
    "\n",
    "        return_list.append((product_name, price_total))\n",
    "        \n",
    "    \n",
    "    # Close the browser\n",
    "    driver.quit()\n",
    "    \n",
    "    return return_list"
   ]
  },
  {
   "cell_type": "code",
   "execution_count": 2,
   "id": "7358c327-6981-492c-bf5e-9c711e66cffb",
   "metadata": {},
   "outputs": [],
   "source": [
    "# Define function to get the current stock price\n",
    "def fetch_current_price(ticker):\n",
    "    stock = yf.Ticker(ticker)\n",
    "    current_price = stock.history(period='1d')['Close'].iloc[0]\n",
    "    return current_price\n",
    "\n",
    "# Fetch and print current prices for each ticker\n",
    "# for ticker in stock_tickers:\n",
    "#     price = fetch_current_price(ticker)\n",
    "#     print(f\"Current price of {ticker}: ${price:.2f}\")"
   ]
  },
  {
   "cell_type": "code",
   "execution_count": 3,
   "id": "3612ba1b-f945-44c2-8f96-cd2dc72e783f",
   "metadata": {},
   "outputs": [],
   "source": [
    "def return_stock_prices(stock_tickers):\n",
    "    return_list = []\n",
    "    for ticker in stock_tickers:\n",
    "        stock = yf.Ticker(ticker)\n",
    "        current_price = stock.history(period='1d')['Close'].iloc[0]\n",
    "        return_list.append((ticker, round(current_price, 2)))\n",
    "    return return_list"
   ]
  },
  {
   "cell_type": "code",
   "execution_count": 4,
   "id": "da57249b-5e56-43e1-b939-8390d38c53f9",
   "metadata": {},
   "outputs": [],
   "source": [
    "def return_crypto_prices(crypto_currency):\n",
    "    destination_currency = 'usd'\n",
    "    cg_client = CoinGeckoAPI()\n",
    "    prices = cg_client.get_price(ids = crypto_currency,\n",
    "                                 vs_currencies = destination_currency)\n",
    "    return_list = []\n",
    "    for crypto in prices:\n",
    "        # print(f'Current price of {crypto.title()}: ${prices[crypto][\"usd\"]}')\n",
    "        return_list.append((crypto.title(), prices[crypto][\"usd\"]))\n",
    "\n",
    "    return return_list"
   ]
  },
  {
   "cell_type": "code",
   "execution_count": 5,
   "id": "6956e633-0746-48c3-ae4f-81b812b24d39",
   "metadata": {},
   "outputs": [],
   "source": [
    "#Define amazon item list\n",
    "amazon_item_list = ['https://www.amazon.com/Apple-MacBook-Laptop-12%E2%80%91core-19%E2%80%91core/dp/B0BSHDJG9T/ref=pd_ci_mcx_mh_mcx_views_0?pd_rd_w=wm3h2&content-id=amzn1.sym.8b590b55-908d-4829-9f90-4c8752768e8b%3Aamzn1.symc.40e6a10e-cbc4-4fa5-81e3-4435ff64d03b&pf_rd_p=8b590b55-908d-4829-9f90-4c8752768e8b&pf_rd_r=Z8ECMH9ABJ02EA0R5K46&pd_rd_wg=0SYTs&pd_rd_r=2b721d28-423e-4783-8caa-098bb631bd20&pd_rd_i=B0BSHDJG9T', \n",
    "                    'https://www.amazon.com/Harvard-16-oz-Ceramic-Mug/dp/B0B2ZB4XMZ/?_encoding=UTF8&pd_rd_w=LHfmo&content-id=amzn1.sym.3c3990c3-513c-4686-8d92-a42b4095cecb%3Aamzn1.symc.8b620bc3-61d8-46b3-abd9-110539785634&pf_rd_p=3c3990c3-513c-4686-8d92-a42b4095cecb&pf_rd_r=0RZA1NMRJ8SH5MJTYVQM&pd_rd_wg=RMfzY&pd_rd_r=23ac4591-73f2-48fa-b640-a781197701ba&ref_=pd_hp_d_btf_ci_mcx_mr_hp_d&th=1']\n",
    "\n",
    "# Define stock tickers\n",
    "stock_tickers = ['AAPL', 'GOOGL', 'TSLA', 'NVDA']\n",
    "\n",
    "#Define cryptocurrencies\n",
    "cryptos = 'bitcoin, ethereum'"
   ]
  },
  {
   "cell_type": "code",
   "execution_count": 6,
   "id": "53d785ac-650f-49a7-a981-89f6d0cd811f",
   "metadata": {},
   "outputs": [],
   "source": [
    "def update_prices():\n",
    "    con = sqlite3.connect('prices.db')\n",
    "    current_time = datetime.datetime.now().strftime('%Y-%m-%d %H:%M:%S')\n",
    "    \n",
    "    amazon_list = return_price(amazon_item_list)\n",
    "    stock_list = return_stock_prices(stock_tickers)\n",
    "    crypto_list = return_crypto_prices(cryptos)\n",
    "    low_price_list = []\n",
    "\n",
    "    for stock in stock_list:\n",
    "        db.insert_stock(con, stock[0], stock[1], current_time)\n",
    "        if float(stock[1]) < check_lowest_price(con, stock[0], \"stocks\", \"stock_symbol\"):\n",
    "            low_price_list.append(stock[0])\n",
    "        \n",
    "    for item in amazon_list:\n",
    "        db.insert_amazon_item(con, item[0], item[1], current_time)\n",
    "        if float(item[1].replace(',', ''))  < check_lowest_price(con, item[0], \"amazon_items\", \"item_name\"):\n",
    "            low_price_list.append(item[0])\n",
    "            \n",
    "    for crypto in crypto_list:\n",
    "        db.insert_cryptocurrency(con, crypto[0], crypto[1], current_time)\n",
    "        if float(crypto[1]) < check_lowest_price(con, crypto[0], \"cryptocurrencies\", \"crypto_name\"):\n",
    "            low_price_list.append(crypto[0])\n",
    "            \n",
    "    con.close()\n",
    "    return low_price_list\n",
    "\n",
    "def check_lowest_price(con, item, table, column):\n",
    "    cursor = con.cursor()\n",
    "    query = f'''\n",
    "    SELECT MIN(price) AS lowest_price\n",
    "    FROM {table}\n",
    "    WHERE {column} = ?\n",
    "    AND timestamp >= datetime('now', '-14 days');\n",
    "    '''\n",
    "    cursor.execute(query, (item,))\n",
    "    result = cursor.fetchone()\n",
    "    cursor.close()\n",
    "    \n",
    "    if isinstance(result[0], float):\n",
    "        return result[0]\n",
    "    else:\n",
    "        return float(result[0].replace(',', ''))"
   ]
  },
  {
   "cell_type": "code",
   "execution_count": 10,
   "id": "5747ec74-2d32-4993-8995-2e096b092dfe",
   "metadata": {},
   "outputs": [],
   "source": [
    "update_prices()"
   ]
  }
 ],
 "metadata": {
  "kernelspec": {
   "display_name": "Python 3 (ipykernel)",
   "language": "python",
   "name": "python3"
  },
  "language_info": {
   "codemirror_mode": {
    "name": "ipython",
    "version": 3
   },
   "file_extension": ".py",
   "mimetype": "text/x-python",
   "name": "python",
   "nbconvert_exporter": "python",
   "pygments_lexer": "ipython3",
   "version": "3.10.13"
  }
 },
 "nbformat": 4,
 "nbformat_minor": 5
}
